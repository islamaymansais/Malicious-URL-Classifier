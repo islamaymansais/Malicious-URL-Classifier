{
 "cells": [
  {
   "cell_type": "markdown",
   "metadata": {},
   "source": [
    "# Imports"
   ]
  },
  {
   "cell_type": "code",
   "execution_count": 1,
   "metadata": {},
   "outputs": [],
   "source": [
    "import numpy as np\n",
    "import pandas as pd\n",
    "\n",
    "from pprint import pprint\n",
    "\n",
    "from os import makedirs\n",
    "from os.path import join, exists\n",
    "\n",
    "from sklearn.decomposition import PCA\n",
    "from sklearn.linear_model import LogisticRegression, LogisticRegressionCV\n",
    "from sklearn.preprocessing import StandardScaler, LabelEncoder, scale\n",
    "from sklearn.model_selection import GridSearchCV, train_test_split\n",
    "from sklearn.metrics import make_scorer, accuracy_score, balanced_accuracy_score, f1_score, precision_score, recall_score, classification_report, roc_auc_score"
   ]
  },
  {
   "cell_type": "markdown",
   "metadata": {},
   "source": [
    "# Utils Functions  "
   ]
  },
  {
   "cell_type": "code",
   "execution_count": 2,
   "metadata": {},
   "outputs": [],
   "source": [
    "scaler = StandardScaler()"
   ]
  },
  {
   "cell_type": "code",
   "execution_count": 3,
   "metadata": {},
   "outputs": [],
   "source": [
    "label_encoder = LabelEncoder()"
   ]
  },
  {
   "cell_type": "code",
   "execution_count": 4,
   "metadata": {},
   "outputs": [],
   "source": [
    "def down_sample(raw_df, column_name):\n",
    "    \"\"\"\n",
    "        Down samples the dataset to balance the densities of each target. First, this method begins by\n",
    "        ingesting the dataframe and name of the target column. Next, the dataset is split into groups \n",
    "        based on the target column. The groups are then reduced to the size of the smallest group. Finally,\n",
    "        the groups are concated together into a single dataframe and returned.\n",
    "\n",
    "        Args:\n",
    "            raw_df: raw dataframe \n",
    "            column_name: target column name\n",
    "\n",
    "        Returns:\n",
    "            sampled_df: downsampled dataframe\n",
    "    \"\"\"\n",
    "    dfs = raw_df.groupby([column_name])\n",
    "    sampled_df = dfs.apply(lambda x: x.sample(dfs.size().min()))\n",
    "    sampled_df = sampled_df.reset_index(drop=True)\n",
    "    return sampled_df"
   ]
  },
  {
   "cell_type": "code",
   "execution_count": 5,
   "metadata": {},
   "outputs": [],
   "source": [
    "def clean_df(df, column_name, balance=False):\n",
    "    \"\"\"\n",
    "        Cleans dataset and preprocesses it in preparation for ML model ingestion, training testing. This method\n",
    "        starts off by filling in empty values with zeros. Next, it converts all columns' datatype to numeric as\n",
    "        some columns' datatype is by default set to objects during ingestion. Next, columns that are all zero are\n",
    "        removed from the dataset. Finally, the dataset is sampled to balance the targets before being returned.\n",
    "    \"\"\"\n",
    "    balanced=False\n",
    "    df = df.fillna(0.0)\n",
    "    df.loc[:, (df.columns != column_name)] = df.loc[:, (df.columns != column_name)].apply(pd.to_numeric)\n",
    "    # remove all zero columns\n",
    "    df = df.loc[:, (df != 0).any(axis=0)]\n",
    "    df.drop_duplicates(subset=None, keep='first', inplace=True)\n",
    "    if balance==True:\n",
    "        balanced=True\n",
    "        df = down_sample(df, column_name)\n",
    "    df[column_name] = df[column_name].astype('category')\n",
    "    df[column_name] = df[column_name].cat.codes\n",
    "    return df, balanced"
   ]
  },
  {
   "cell_type": "code",
   "execution_count": 6,
   "metadata": {},
   "outputs": [],
   "source": [
    "def log_reg_grid_search(balanced, hyperparameters, x_train, y_train):\n",
    "    \n",
    "    new_list=[]\n",
    "    if balanced == False:\n",
    "        hyperparameters.update({\"class_weight\":[\"balanced\"]})\n",
    "    else:\n",
    "        hyperparameters.pop(\"class_weight\",None)\n",
    "        \n",
    "    if balanced == False:\n",
    "        scoring = {\n",
    "            'accuracy_score': make_scorer(balanced_accuracy_score),\n",
    "            'f1_score': make_scorer(f1_score, average=\"weighted\"),\n",
    "            'precision_score': make_scorer(precision_score, average=\"weighted\"),\n",
    "            'recall_score': make_scorer(recall_score, average=\"weighted\")\n",
    "        }\n",
    "    else:\n",
    "        scoring = {\n",
    "            'accuracy_score': make_scorer(accuracy_score),\n",
    "            'f1_score': make_scorer(f1_score, average=\"macro\"),\n",
    "            'precision_score': make_scorer(precision_score, average=\"macro\"),\n",
    "            'recall_recall_score': make_scorer(recall_score, average=\"macro\")\n",
    "        }\n",
    "        \n",
    "    \n",
    "    log_reg_final_model = GridSearchCV(\n",
    "        estimator = LogisticRegression(), \n",
    "        param_grid = hyperparameters, \n",
    "        scoring=scoring,\n",
    "        verbose=2, \n",
    "        n_jobs=-1,\n",
    "        cv=5,\n",
    "        refit=\"accuracy_score\"\n",
    "    )\n",
    "\n",
    "    training_results = log_reg_final_model.fit(x_train, y_train)\n",
    "    \n",
    "    return training_results.best_params_"
   ]
  },
  {
   "cell_type": "markdown",
   "metadata": {},
   "source": [
    "# Load Data"
   ]
  },
  {
   "cell_type": "code",
   "execution_count": 7,
   "metadata": {},
   "outputs": [],
   "source": [
    "dataset = pd.read_csv(\"all.csv\", low_memory = False, na_values = [-1, \"nan\", \"Infinity\"])"
   ]
  },
  {
   "cell_type": "markdown",
   "metadata": {},
   "source": [
    "**Explore dataset**"
   ]
  },
  {
   "cell_type": "code",
   "execution_count": 8,
   "metadata": {},
   "outputs": [
    {
     "name": "stdout",
     "output_type": "stream",
     "text": [
      "<class 'pandas.core.frame.DataFrame'>\n",
      "RangeIndex: 36707 entries, 0 to 36706\n",
      "Data columns (total 80 columns):\n",
      "Querylength                        36707 non-null int64\n",
      "domain_token_count                 36707 non-null int64\n",
      "path_token_count                   36707 non-null int64\n",
      "avgdomaintokenlen                  36707 non-null float64\n",
      "longdomaintokenlen                 36707 non-null int64\n",
      "avgpathtokenlen                    36427 non-null float64\n",
      "tld                                36707 non-null int64\n",
      "charcompvowels                     36707 non-null int64\n",
      "charcompace                        36707 non-null int64\n",
      "ldl_url                            36707 non-null int64\n",
      "ldl_domain                         36707 non-null int64\n",
      "ldl_path                           36707 non-null int64\n",
      "ldl_filename                       36707 non-null int64\n",
      "ldl_getArg                         36707 non-null int64\n",
      "dld_url                            36707 non-null int64\n",
      "dld_domain                         36707 non-null int64\n",
      "dld_path                           36707 non-null int64\n",
      "dld_filename                       36707 non-null int64\n",
      "dld_getArg                         36707 non-null int64\n",
      "urlLen                             36707 non-null int64\n",
      "domainlength                       36707 non-null int64\n",
      "pathLength                         36707 non-null int64\n",
      "subDirLen                          36707 non-null int64\n",
      "fileNameLen                        36707 non-null int64\n",
      "this.fileExtLen                    36707 non-null int64\n",
      "ArgLen                             36707 non-null int64\n",
      "pathurlRatio                       36707 non-null float64\n",
      "ArgUrlRatio                        36707 non-null float64\n",
      "argDomanRatio                      36707 non-null float64\n",
      "domainUrlRatio                     36707 non-null float64\n",
      "pathDomainRatio                    36707 non-null float64\n",
      "argPathRatio                       36697 non-null float64\n",
      "executable                         36707 non-null int64\n",
      "isPortEighty                       14 non-null float64\n",
      "NumberofDotsinURL                  36707 non-null int64\n",
      "ISIpAddressInDomainName            0 non-null float64\n",
      "CharacterContinuityRate            36707 non-null float64\n",
      "LongestVariableValue               16422 non-null float64\n",
      "URL_DigitCount                     36707 non-null int64\n",
      "host_DigitCount                    36707 non-null int64\n",
      "Directory_DigitCount               25460 non-null float64\n",
      "File_name_DigitCount               35278 non-null float64\n",
      "Extension_DigitCount               35278 non-null float64\n",
      "Query_DigitCount                   16422 non-null float64\n",
      "URL_Letter_Count                   36707 non-null int64\n",
      "host_letter_count                  36707 non-null int64\n",
      "Directory_LetterCount              25460 non-null float64\n",
      "Filename_LetterCount               35278 non-null float64\n",
      "Extension_LetterCount              35278 non-null float64\n",
      "Query_LetterCount                  16422 non-null float64\n",
      "LongestPathTokenLength             36707 non-null int64\n",
      "Domain_LongestWordLength           36707 non-null int64\n",
      "Path_LongestWordLength             36707 non-null int64\n",
      "sub-Directory_LongestWordLength    34656 non-null float64\n",
      "Arguments_LongestWordLength        16422 non-null float64\n",
      "URL_sensitiveWord                  36707 non-null int64\n",
      "URLQueries_variable                36707 non-null int64\n",
      "spcharUrl                          36707 non-null int64\n",
      "delimeter_Domain                   36707 non-null int64\n",
      "delimeter_path                     36707 non-null int64\n",
      "delimeter_Count                    16422 non-null float64\n",
      "NumberRate_URL                     36707 non-null float64\n",
      "NumberRate_Domain                  36707 non-null float64\n",
      "NumberRate_DirectoryName           34845 non-null float64\n",
      "NumberRate_FileName                34845 non-null float64\n",
      "NumberRate_Extension               24725 non-null float64\n",
      "NumberRate_AfterPath               16223 non-null float64\n",
      "SymbolCount_URL                    36707 non-null int64\n",
      "SymbolCount_Domain                 36707 non-null int64\n",
      "SymbolCount_Directoryname          26387 non-null float64\n",
      "SymbolCount_FileName               34853 non-null float64\n",
      "SymbolCount_Extension              34852 non-null float64\n",
      "SymbolCount_Afterpath              16226 non-null float64\n",
      "Entropy_URL                        36707 non-null float64\n",
      "Entropy_Domain                     36707 non-null float64\n",
      "Entropy_DirectoryName              26387 non-null float64\n",
      "Entropy_Filename                   34619 non-null float64\n",
      "Entropy_Extension                  34815 non-null float64\n",
      "Entropy_Afterpath                  16220 non-null float64\n",
      "URL_Type_obf_Type                  36707 non-null object\n",
      "dtypes: float64(39), int64(40), object(1)\n",
      "memory usage: 22.4+ MB\n"
     ]
    }
   ],
   "source": [
    "dataset.info()"
   ]
  },
  {
   "cell_type": "markdown",
   "metadata": {},
   "source": [
    "# Preprocess data"
   ]
  },
  {
   "cell_type": "code",
   "execution_count": 41,
   "metadata": {},
   "outputs": [],
   "source": [
    "df, balanced = clean_df(dataset, \"URL_Type_obf_Type\")"
   ]
  },
  {
   "cell_type": "code",
   "execution_count": 42,
   "metadata": {},
   "outputs": [
    {
     "data": {
      "text/html": [
       "<div>\n",
       "<style scoped>\n",
       "    .dataframe tbody tr th:only-of-type {\n",
       "        vertical-align: middle;\n",
       "    }\n",
       "\n",
       "    .dataframe tbody tr th {\n",
       "        vertical-align: top;\n",
       "    }\n",
       "\n",
       "    .dataframe thead th {\n",
       "        text-align: right;\n",
       "    }\n",
       "</style>\n",
       "<table border=\"1\" class=\"dataframe\">\n",
       "  <thead>\n",
       "    <tr style=\"text-align: right;\">\n",
       "      <th></th>\n",
       "      <th>Querylength</th>\n",
       "      <th>domain_token_count</th>\n",
       "      <th>path_token_count</th>\n",
       "      <th>avgdomaintokenlen</th>\n",
       "      <th>longdomaintokenlen</th>\n",
       "      <th>avgpathtokenlen</th>\n",
       "      <th>tld</th>\n",
       "      <th>charcompvowels</th>\n",
       "      <th>charcompace</th>\n",
       "      <th>ldl_url</th>\n",
       "      <th>...</th>\n",
       "      <th>SymbolCount_FileName</th>\n",
       "      <th>SymbolCount_Extension</th>\n",
       "      <th>SymbolCount_Afterpath</th>\n",
       "      <th>Entropy_URL</th>\n",
       "      <th>Entropy_Domain</th>\n",
       "      <th>Entropy_DirectoryName</th>\n",
       "      <th>Entropy_Filename</th>\n",
       "      <th>Entropy_Extension</th>\n",
       "      <th>Entropy_Afterpath</th>\n",
       "      <th>URL_Type_obf_Type</th>\n",
       "    </tr>\n",
       "  </thead>\n",
       "  <tbody>\n",
       "    <tr>\n",
       "      <th>0</th>\n",
       "      <td>0</td>\n",
       "      <td>4</td>\n",
       "      <td>5</td>\n",
       "      <td>5.500000</td>\n",
       "      <td>14</td>\n",
       "      <td>4.400000</td>\n",
       "      <td>4</td>\n",
       "      <td>8</td>\n",
       "      <td>3</td>\n",
       "      <td>0</td>\n",
       "      <td>...</td>\n",
       "      <td>1.0</td>\n",
       "      <td>0.0</td>\n",
       "      <td>0.0</td>\n",
       "      <td>0.726298</td>\n",
       "      <td>0.784493</td>\n",
       "      <td>0.894886</td>\n",
       "      <td>0.850608</td>\n",
       "      <td>0.000000</td>\n",
       "      <td>0.000000</td>\n",
       "      <td>0</td>\n",
       "    </tr>\n",
       "    <tr>\n",
       "      <th>1</th>\n",
       "      <td>0</td>\n",
       "      <td>4</td>\n",
       "      <td>5</td>\n",
       "      <td>5.500000</td>\n",
       "      <td>14</td>\n",
       "      <td>6.000000</td>\n",
       "      <td>4</td>\n",
       "      <td>12</td>\n",
       "      <td>4</td>\n",
       "      <td>0</td>\n",
       "      <td>...</td>\n",
       "      <td>0.0</td>\n",
       "      <td>0.0</td>\n",
       "      <td>0.0</td>\n",
       "      <td>0.688635</td>\n",
       "      <td>0.784493</td>\n",
       "      <td>0.814725</td>\n",
       "      <td>0.859793</td>\n",
       "      <td>0.000000</td>\n",
       "      <td>0.000000</td>\n",
       "      <td>0</td>\n",
       "    </tr>\n",
       "    <tr>\n",
       "      <th>2</th>\n",
       "      <td>0</td>\n",
       "      <td>4</td>\n",
       "      <td>5</td>\n",
       "      <td>5.500000</td>\n",
       "      <td>14</td>\n",
       "      <td>5.800000</td>\n",
       "      <td>4</td>\n",
       "      <td>12</td>\n",
       "      <td>5</td>\n",
       "      <td>0</td>\n",
       "      <td>...</td>\n",
       "      <td>0.0</td>\n",
       "      <td>0.0</td>\n",
       "      <td>0.0</td>\n",
       "      <td>0.695049</td>\n",
       "      <td>0.784493</td>\n",
       "      <td>0.814725</td>\n",
       "      <td>0.801880</td>\n",
       "      <td>0.000000</td>\n",
       "      <td>0.000000</td>\n",
       "      <td>0</td>\n",
       "    </tr>\n",
       "    <tr>\n",
       "      <th>3</th>\n",
       "      <td>0</td>\n",
       "      <td>4</td>\n",
       "      <td>12</td>\n",
       "      <td>5.500000</td>\n",
       "      <td>14</td>\n",
       "      <td>5.500000</td>\n",
       "      <td>4</td>\n",
       "      <td>32</td>\n",
       "      <td>16</td>\n",
       "      <td>0</td>\n",
       "      <td>...</td>\n",
       "      <td>0.0</td>\n",
       "      <td>0.0</td>\n",
       "      <td>0.0</td>\n",
       "      <td>0.640130</td>\n",
       "      <td>0.784493</td>\n",
       "      <td>0.814725</td>\n",
       "      <td>0.663210</td>\n",
       "      <td>0.000000</td>\n",
       "      <td>0.000000</td>\n",
       "      <td>0</td>\n",
       "    </tr>\n",
       "    <tr>\n",
       "      <th>4</th>\n",
       "      <td>0</td>\n",
       "      <td>4</td>\n",
       "      <td>6</td>\n",
       "      <td>5.500000</td>\n",
       "      <td>14</td>\n",
       "      <td>7.333334</td>\n",
       "      <td>4</td>\n",
       "      <td>18</td>\n",
       "      <td>11</td>\n",
       "      <td>0</td>\n",
       "      <td>...</td>\n",
       "      <td>0.0</td>\n",
       "      <td>0.0</td>\n",
       "      <td>0.0</td>\n",
       "      <td>0.681307</td>\n",
       "      <td>0.784493</td>\n",
       "      <td>0.814725</td>\n",
       "      <td>0.804526</td>\n",
       "      <td>0.000000</td>\n",
       "      <td>0.000000</td>\n",
       "      <td>0</td>\n",
       "    </tr>\n",
       "    <tr>\n",
       "      <th>...</th>\n",
       "      <td>...</td>\n",
       "      <td>...</td>\n",
       "      <td>...</td>\n",
       "      <td>...</td>\n",
       "      <td>...</td>\n",
       "      <td>...</td>\n",
       "      <td>...</td>\n",
       "      <td>...</td>\n",
       "      <td>...</td>\n",
       "      <td>...</td>\n",
       "      <td>...</td>\n",
       "      <td>...</td>\n",
       "      <td>...</td>\n",
       "      <td>...</td>\n",
       "      <td>...</td>\n",
       "      <td>...</td>\n",
       "      <td>...</td>\n",
       "      <td>...</td>\n",
       "      <td>...</td>\n",
       "      <td>...</td>\n",
       "      <td>...</td>\n",
       "    </tr>\n",
       "    <tr>\n",
       "      <th>36699</th>\n",
       "      <td>6</td>\n",
       "      <td>3</td>\n",
       "      <td>7</td>\n",
       "      <td>2.666667</td>\n",
       "      <td>4</td>\n",
       "      <td>4.800000</td>\n",
       "      <td>3</td>\n",
       "      <td>11</td>\n",
       "      <td>8</td>\n",
       "      <td>1</td>\n",
       "      <td>...</td>\n",
       "      <td>3.0</td>\n",
       "      <td>2.0</td>\n",
       "      <td>1.0</td>\n",
       "      <td>0.783024</td>\n",
       "      <td>0.879588</td>\n",
       "      <td>0.783307</td>\n",
       "      <td>0.918457</td>\n",
       "      <td>0.931745</td>\n",
       "      <td>0.947443</td>\n",
       "      <td>4</td>\n",
       "    </tr>\n",
       "    <tr>\n",
       "      <th>36701</th>\n",
       "      <td>0</td>\n",
       "      <td>3</td>\n",
       "      <td>5</td>\n",
       "      <td>4.666666</td>\n",
       "      <td>10</td>\n",
       "      <td>3.000000</td>\n",
       "      <td>3</td>\n",
       "      <td>2</td>\n",
       "      <td>2</td>\n",
       "      <td>1</td>\n",
       "      <td>...</td>\n",
       "      <td>1.0</td>\n",
       "      <td>0.0</td>\n",
       "      <td>0.0</td>\n",
       "      <td>0.799054</td>\n",
       "      <td>0.843750</td>\n",
       "      <td>0.898227</td>\n",
       "      <td>0.814038</td>\n",
       "      <td>1.000000</td>\n",
       "      <td>0.000000</td>\n",
       "      <td>4</td>\n",
       "    </tr>\n",
       "    <tr>\n",
       "      <th>36702</th>\n",
       "      <td>29</td>\n",
       "      <td>4</td>\n",
       "      <td>14</td>\n",
       "      <td>5.750000</td>\n",
       "      <td>12</td>\n",
       "      <td>3.666667</td>\n",
       "      <td>4</td>\n",
       "      <td>20</td>\n",
       "      <td>24</td>\n",
       "      <td>3</td>\n",
       "      <td>...</td>\n",
       "      <td>3.0</td>\n",
       "      <td>2.0</td>\n",
       "      <td>7.0</td>\n",
       "      <td>0.690555</td>\n",
       "      <td>0.791265</td>\n",
       "      <td>0.777498</td>\n",
       "      <td>0.690227</td>\n",
       "      <td>0.656684</td>\n",
       "      <td>0.796205</td>\n",
       "      <td>4</td>\n",
       "    </tr>\n",
       "    <tr>\n",
       "      <th>36704</th>\n",
       "      <td>58</td>\n",
       "      <td>3</td>\n",
       "      <td>27</td>\n",
       "      <td>6.666666</td>\n",
       "      <td>16</td>\n",
       "      <td>3.375000</td>\n",
       "      <td>3</td>\n",
       "      <td>41</td>\n",
       "      <td>34</td>\n",
       "      <td>20</td>\n",
       "      <td>...</td>\n",
       "      <td>8.0</td>\n",
       "      <td>7.0</td>\n",
       "      <td>9.0</td>\n",
       "      <td>0.656807</td>\n",
       "      <td>0.801139</td>\n",
       "      <td>0.684777</td>\n",
       "      <td>0.713622</td>\n",
       "      <td>0.717187</td>\n",
       "      <td>0.705245</td>\n",
       "      <td>4</td>\n",
       "    </tr>\n",
       "    <tr>\n",
       "      <th>36706</th>\n",
       "      <td>40</td>\n",
       "      <td>3</td>\n",
       "      <td>25</td>\n",
       "      <td>6.666666</td>\n",
       "      <td>16</td>\n",
       "      <td>3.250000</td>\n",
       "      <td>3</td>\n",
       "      <td>35</td>\n",
       "      <td>31</td>\n",
       "      <td>19</td>\n",
       "      <td>...</td>\n",
       "      <td>7.0</td>\n",
       "      <td>6.0</td>\n",
       "      <td>7.0</td>\n",
       "      <td>0.674351</td>\n",
       "      <td>0.801139</td>\n",
       "      <td>0.697282</td>\n",
       "      <td>0.730563</td>\n",
       "      <td>0.731481</td>\n",
       "      <td>0.769238</td>\n",
       "      <td>4</td>\n",
       "    </tr>\n",
       "  </tbody>\n",
       "</table>\n",
       "<p>26953 rows × 78 columns</p>\n",
       "</div>"
      ],
      "text/plain": [
       "       Querylength  domain_token_count  path_token_count  avgdomaintokenlen  \\\n",
       "0                0                   4                 5           5.500000   \n",
       "1                0                   4                 5           5.500000   \n",
       "2                0                   4                 5           5.500000   \n",
       "3                0                   4                12           5.500000   \n",
       "4                0                   4                 6           5.500000   \n",
       "...            ...                 ...               ...                ...   \n",
       "36699            6                   3                 7           2.666667   \n",
       "36701            0                   3                 5           4.666666   \n",
       "36702           29                   4                14           5.750000   \n",
       "36704           58                   3                27           6.666666   \n",
       "36706           40                   3                25           6.666666   \n",
       "\n",
       "       longdomaintokenlen  avgpathtokenlen  tld  charcompvowels  charcompace  \\\n",
       "0                      14         4.400000    4               8            3   \n",
       "1                      14         6.000000    4              12            4   \n",
       "2                      14         5.800000    4              12            5   \n",
       "3                      14         5.500000    4              32           16   \n",
       "4                      14         7.333334    4              18           11   \n",
       "...                   ...              ...  ...             ...          ...   \n",
       "36699                   4         4.800000    3              11            8   \n",
       "36701                  10         3.000000    3               2            2   \n",
       "36702                  12         3.666667    4              20           24   \n",
       "36704                  16         3.375000    3              41           34   \n",
       "36706                  16         3.250000    3              35           31   \n",
       "\n",
       "       ldl_url  ...  SymbolCount_FileName  SymbolCount_Extension  \\\n",
       "0            0  ...                   1.0                    0.0   \n",
       "1            0  ...                   0.0                    0.0   \n",
       "2            0  ...                   0.0                    0.0   \n",
       "3            0  ...                   0.0                    0.0   \n",
       "4            0  ...                   0.0                    0.0   \n",
       "...        ...  ...                   ...                    ...   \n",
       "36699        1  ...                   3.0                    2.0   \n",
       "36701        1  ...                   1.0                    0.0   \n",
       "36702        3  ...                   3.0                    2.0   \n",
       "36704       20  ...                   8.0                    7.0   \n",
       "36706       19  ...                   7.0                    6.0   \n",
       "\n",
       "       SymbolCount_Afterpath  Entropy_URL  Entropy_Domain  \\\n",
       "0                        0.0     0.726298        0.784493   \n",
       "1                        0.0     0.688635        0.784493   \n",
       "2                        0.0     0.695049        0.784493   \n",
       "3                        0.0     0.640130        0.784493   \n",
       "4                        0.0     0.681307        0.784493   \n",
       "...                      ...          ...             ...   \n",
       "36699                    1.0     0.783024        0.879588   \n",
       "36701                    0.0     0.799054        0.843750   \n",
       "36702                    7.0     0.690555        0.791265   \n",
       "36704                    9.0     0.656807        0.801139   \n",
       "36706                    7.0     0.674351        0.801139   \n",
       "\n",
       "       Entropy_DirectoryName  Entropy_Filename  Entropy_Extension  \\\n",
       "0                   0.894886          0.850608           0.000000   \n",
       "1                   0.814725          0.859793           0.000000   \n",
       "2                   0.814725          0.801880           0.000000   \n",
       "3                   0.814725          0.663210           0.000000   \n",
       "4                   0.814725          0.804526           0.000000   \n",
       "...                      ...               ...                ...   \n",
       "36699               0.783307          0.918457           0.931745   \n",
       "36701               0.898227          0.814038           1.000000   \n",
       "36702               0.777498          0.690227           0.656684   \n",
       "36704               0.684777          0.713622           0.717187   \n",
       "36706               0.697282          0.730563           0.731481   \n",
       "\n",
       "       Entropy_Afterpath  URL_Type_obf_Type  \n",
       "0               0.000000                  0  \n",
       "1               0.000000                  0  \n",
       "2               0.000000                  0  \n",
       "3               0.000000                  0  \n",
       "4               0.000000                  0  \n",
       "...                  ...                ...  \n",
       "36699           0.947443                  4  \n",
       "36701           0.000000                  4  \n",
       "36702           0.796205                  4  \n",
       "36704           0.705245                  4  \n",
       "36706           0.769238                  4  \n",
       "\n",
       "[26953 rows x 78 columns]"
      ]
     },
     "execution_count": 42,
     "metadata": {},
     "output_type": "execute_result"
    }
   ],
   "source": [
    "df"
   ]
  },
  {
   "cell_type": "markdown",
   "metadata": {},
   "source": [
    "#  Modelling"
   ]
  },
  {
   "cell_type": "markdown",
   "metadata": {},
   "source": [
    "### Split dataset"
   ]
  },
  {
   "cell_type": "code",
   "execution_count": 43,
   "metadata": {},
   "outputs": [],
   "source": [
    "x = df.iloc[:,:-1].values\n",
    "y = df.iloc[:, -1].values\n",
    "x_train, x_test, y_train, y_test = train_test_split(x, y, test_size=0.90, random_state=42)"
   ]
  },
  {
   "cell_type": "markdown",
   "metadata": {},
   "source": [
    "**Scale data**"
   ]
  },
  {
   "cell_type": "code",
   "execution_count": 44,
   "metadata": {},
   "outputs": [],
   "source": [
    "x_train = scale(x_train)"
   ]
  },
  {
   "cell_type": "markdown",
   "metadata": {},
   "source": [
    "## Max Voting approach"
   ]
  },
  {
   "cell_type": "markdown",
   "metadata": {},
   "source": [
    "Will be using:\n",
    "- Logistic Regression\n",
    "- Decision Trees\n",
    "- Support Vector Machines"
   ]
  },
  {
   "cell_type": "markdown",
   "metadata": {},
   "source": [
    "### Logistic Regression"
   ]
  },
  {
   "cell_type": "markdown",
   "metadata": {},
   "source": [
    "**Define grid search parameters**"
   ]
  },
  {
   "cell_type": "code",
   "execution_count": 52,
   "metadata": {},
   "outputs": [],
   "source": [
    "hyperparameters = {\n",
    "            \"penalty\":[\"l2\",\"l1\"],\n",
    "            \"solver\":[\"lbfgs\",\"newton-cg\",\"liblinear\"],\n",
    "            \"multi_class\":[\"multinomial\"],\n",
    "            \"class_weight\":None,\n",
    "            \"max_iter\":[500],\n",
    "            \"tol\":[1e-4]\n",
    "}"
   ]
  },
  {
   "cell_type": "code",
   "execution_count": 46,
   "metadata": {},
   "outputs": [
    {
     "name": "stdout",
     "output_type": "stream",
     "text": [
      "Fitting 5 folds for each of 12 candidates, totalling 60 fits\n"
     ]
    },
    {
     "name": "stderr",
     "output_type": "stream",
     "text": [
      "[Parallel(n_jobs=-1)]: Using backend LokyBackend with 12 concurrent workers.\n",
      "[Parallel(n_jobs=-1)]: Done  17 tasks      | elapsed:    0.8s\n",
      "[Parallel(n_jobs=-1)]: Done  60 out of  60 | elapsed:    1.2s finished\n"
     ]
    }
   ],
   "source": [
    "best_params = log_reg_grid_search(balanced, hyperparameters, x_train, y_train)"
   ]
  },
  {
   "cell_type": "code",
   "execution_count": 47,
   "metadata": {},
   "outputs": [
    {
     "data": {
      "text/plain": [
       "{'class_weight': 'balanced',\n",
       " 'max_iter': 500,\n",
       " 'multi_class': 'multinomial',\n",
       " 'penalty': 'l2',\n",
       " 'solver': 'lbfgs',\n",
       " 'tol': 0.005}"
      ]
     },
     "execution_count": 47,
     "metadata": {},
     "output_type": "execute_result"
    }
   ],
   "source": [
    "best_params"
   ]
  },
  {
   "cell_type": "code",
   "execution_count": 48,
   "metadata": {},
   "outputs": [],
   "source": [
    "log_reg = LogisticRegression(multi_class=\"multinomial\",max_iter=5000,n_jobs=-1,verbose=5,tol=1e-7)"
   ]
  },
  {
   "cell_type": "code",
   "execution_count": 49,
   "metadata": {},
   "outputs": [
    {
     "name": "stderr",
     "output_type": "stream",
     "text": [
      "[Parallel(n_jobs=-1)]: Using backend LokyBackend with 12 concurrent workers.\n",
      "[Parallel(n_jobs=-1)]: Done   1 out of   1 | elapsed:    0.4s finished\n"
     ]
    }
   ],
   "source": [
    "model = log_reg.fit(x_train, y_train)"
   ]
  },
  {
   "cell_type": "code",
   "execution_count": 50,
   "metadata": {},
   "outputs": [],
   "source": [
    "y_pred = model.predict(x_test)"
   ]
  },
  {
   "cell_type": "code",
   "execution_count": 51,
   "metadata": {},
   "outputs": [
    {
     "data": {
      "text/plain": [
       "0.37595844669799655"
      ]
     },
     "execution_count": 51,
     "metadata": {},
     "output_type": "execute_result"
    }
   ],
   "source": [
    "accuracy_score(y_pred,y_test)"
   ]
  },
  {
   "cell_type": "code",
   "execution_count": 70,
   "metadata": {},
   "outputs": [
    {
     "data": {
      "text/plain": [
       "0.37595844669799655"
      ]
     },
     "execution_count": 70,
     "metadata": {},
     "output_type": "execute_result"
    }
   ],
   "source": [
    "recall_score(y_pred,y_test,average=\"micro\")"
   ]
  },
  {
   "cell_type": "code",
   "execution_count": 69,
   "metadata": {},
   "outputs": [
    {
     "data": {
      "text/plain": [
       "0.37595844669799655"
      ]
     },
     "execution_count": 69,
     "metadata": {},
     "output_type": "execute_result"
    }
   ],
   "source": [
    "precision_score(y_pred,y_test,average=\"micro\")"
   ]
  },
  {
   "cell_type": "code",
   "execution_count": 68,
   "metadata": {},
   "outputs": [
    {
     "data": {
      "text/plain": [
       "0.3759584466979966"
      ]
     },
     "execution_count": 68,
     "metadata": {},
     "output_type": "execute_result"
    }
   ],
   "source": [
    "f1_score(y_pred,y_test,average=\"micro\")"
   ]
  },
  {
   "cell_type": "code",
   "execution_count": null,
   "metadata": {},
   "outputs": [],
   "source": []
  }
 ],
 "metadata": {
  "kernelspec": {
   "display_name": "Python 3",
   "language": "python",
   "name": "python3"
  },
  "language_info": {
   "codemirror_mode": {
    "name": "ipython",
    "version": 3
   },
   "file_extension": ".py",
   "mimetype": "text/x-python",
   "name": "python",
   "nbconvert_exporter": "python",
   "pygments_lexer": "ipython3",
   "version": "3.6.10"
  }
 },
 "nbformat": 4,
 "nbformat_minor": 2
}
